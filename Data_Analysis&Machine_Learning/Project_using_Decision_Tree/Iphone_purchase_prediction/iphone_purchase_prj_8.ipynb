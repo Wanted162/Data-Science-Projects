{
  "nbformat": 4,
  "nbformat_minor": 0,
  "metadata": {
    "colab": {
      "provenance": []
    },
    "kernelspec": {
      "name": "python3",
      "display_name": "Python 3"
    },
    "language_info": {
      "name": "python"
    }
  },
  "cells": [
    {
      "cell_type": "code",
      "execution_count": 34,
      "metadata": {
        "id": "NyMX5iTvCQUE"
      },
      "outputs": [],
      "source": [
        "##Importing Libraries\n",
        "import pandas as pd\n",
        "import numpy as np\n",
        "import matplotlib.pyplot as plt\n",
        "import seaborn as sns\n",
        "from sklearn.model_selection import train_test_split\n",
        "from sklearn.tree import DecisionTreeClassifier\n",
        "from sklearn.preprocessing import OrdinalEncoder\n",
        "from sklearn.metrics import accuracy_score, classification_report, precision_score, confusion_matrix\n",
        "import joblib"
      ]
    },
    {
      "cell_type": "code",
      "source": [
        "###Importing of data\n",
        "def read_data():\n",
        "    data = pd.read_csv('/content/iphone_purchase_records.csv')\n",
        "    return data"
      ],
      "metadata": {
        "id": "9Z00mflcEtbX"
      },
      "execution_count": 2,
      "outputs": []
    },
    {
      "cell_type": "code",
      "source": [
        "data = read_data()\n",
        "print(data)\n",
        "\n",
        "##creating an ordinal encode object\n",
        "enc = OrdinalEncoder()"
      ],
      "metadata": {
        "colab": {
          "base_uri": "https://localhost:8080/"
        },
        "id": "qLRR-djqGbs1",
        "outputId": "424a2bef-b861-42ef-ec21-ca3443660c9e"
      },
      "execution_count": 12,
      "outputs": [
        {
          "output_type": "stream",
          "name": "stdout",
          "text": [
            "     Gender  Age  Salary  Purchase Iphone\n",
            "0      Male   19   19000                0\n",
            "1      Male   35   20000                0\n",
            "2    Female   26   43000                0\n",
            "3    Female   27   57000                0\n",
            "4      Male   19   76000                0\n",
            "..      ...  ...     ...              ...\n",
            "395  Female   46   41000                1\n",
            "396    Male   51   23000                1\n",
            "397  Female   50   20000                1\n",
            "398    Male   36   33000                0\n",
            "399  Female   49   36000                1\n",
            "\n",
            "[400 rows x 4 columns]\n"
          ]
        }
      ]
    },
    {
      "cell_type": "code",
      "source": [
        "def patterns():\n",
        "  plt.figure(figsize=(10,7))\n",
        "  sns.lmplot(data = data, x='Salary', y='Age', hue='Gender')\n",
        "  sns.countplot(data = data, x='Age', y='Purchase Iphone', hue='Gender')\n",
        "  sns.countplot(data=data, x='Purchase Iphone', hue='Gender')\n",
        "  sns.countplot(data=data, x='Purchase Iphone', hue='Salary')\n",
        "  return patterns"
      ],
      "metadata": {
        "id": "92JdYMLc2Xbj"
      },
      "execution_count": 64,
      "outputs": []
    },
    {
      "cell_type": "code",
      "source": [
        "def data_prep(data, t):\n",
        "  X = data[['Gender', 'Age', 'Salary']]\n",
        "  y = data['Purchase Iphone']\n",
        "  X[['Gender']] = enc.fit_transform(X[['Gender']])\n",
        "  X_train, X_test, y_train, y_test = train_test_split(X,y,test_size=t,random_state=42,stratify=y)\n",
        "  return X_train, X_test, y_train, y_test\n"
      ],
      "metadata": {
        "id": "F_zmdLD-GlGw"
      },
      "execution_count": 13,
      "outputs": []
    },
    {
      "cell_type": "code",
      "source": [
        "## calling the data prep function\n",
        "X_train, X_test, y_train, y_test = data_prep(data, 0.2)"
      ],
      "metadata": {
        "colab": {
          "base_uri": "https://localhost:8080/"
        },
        "collapsed": true,
        "id": "NTleEQDpGrM1",
        "outputId": "7eab720b-4aed-4b94-adc3-cbd8f53ed850"
      },
      "execution_count": 32,
      "outputs": [
        {
          "output_type": "stream",
          "name": "stderr",
          "text": [
            "<ipython-input-13-a3325a03892e>:4: SettingWithCopyWarning: \n",
            "A value is trying to be set on a copy of a slice from a DataFrame.\n",
            "Try using .loc[row_indexer,col_indexer] = value instead\n",
            "\n",
            "See the caveats in the documentation: https://pandas.pydata.org/pandas-docs/stable/user_guide/indexing.html#returning-a-view-versus-a-copy\n",
            "  X[['Gender']] = enc.fit_transform(X[['Gender']])\n"
          ]
        }
      ]
    },
    {
      "cell_type": "code",
      "source": [
        "def dec_model(X_train, y_train, X_test):\n",
        "  dec_tree_model = DecisionTreeClassifier()\n",
        "  dtc_model = dec_tree_model.fit(X_train, y_train)\n",
        "  pred = dtc_model.predict(X_test)\n",
        "  return pred"
      ],
      "metadata": {
        "id": "2zC-4ALYGrI1"
      },
      "execution_count": 49,
      "outputs": []
    },
    {
      "cell_type": "code",
      "source": [
        "pred = dec_model(X_train, y_train, X_test)\n",
        "pred"
      ],
      "metadata": {
        "colab": {
          "base_uri": "https://localhost:8080/"
        },
        "id": "mq8koR__GrE-",
        "outputId": "8c2b3a5e-ceaa-40b3-ac03-fd12aa0d5028"
      },
      "execution_count": 33,
      "outputs": [
        {
          "output_type": "execute_result",
          "data": {
            "text/plain": [
              "array([1, 0, 0, 1, 0, 1, 0, 1, 1, 0, 0, 1, 1, 1, 1, 0, 0, 1, 0, 1, 1, 0,\n",
              "       0, 1, 0, 0, 1, 1, 0, 1, 1, 0, 1, 0, 0, 1, 1, 1, 0, 1, 0, 0, 0, 0,\n",
              "       0, 1, 0, 1, 0, 0, 1, 0, 0, 0, 0, 0, 0, 0, 0, 0, 0, 1, 1, 1, 1, 0,\n",
              "       1, 0, 0, 1, 0, 0, 0, 1, 0, 1, 0, 0, 1, 0])"
            ]
          },
          "metadata": {},
          "execution_count": 33
        }
      ]
    },
    {
      "cell_type": "code",
      "source": [
        "##diagnostics of the model\n",
        "def model_dtc_diag(y_test, pred):\n",
        "  accuracy = accuracy_score(y_test, pred)\n",
        "  precision = precision_score(y_test, pred)\n",
        "  clf = classification_report(y_test, pred)\n",
        "  conf_matrix = confusion_matrix(y_test, pred)\n",
        "  return accuracy, precision, clf, conf_matrix"
      ],
      "metadata": {
        "id": "eRE9Mj1CGq_l"
      },
      "execution_count": 26,
      "outputs": []
    },
    {
      "cell_type": "code",
      "source": [
        "accuracy, precision, clf, conf_matrix =  model_dtc_diag(y_test, pred)\n",
        "print(f\"The accuracy score is: \",accuracy)\n",
        "print(f\"The precision score is: \",precision)\n",
        "print(f\"The CLASSIFICATION report is: \",clf)\n",
        "print(f\"The confusion matrix is: \",conf_matrix)"
      ],
      "metadata": {
        "colab": {
          "base_uri": "https://localhost:8080/"
        },
        "id": "-2iSsrQYMkIV",
        "outputId": "c4709f86-0b0c-480d-cef5-00dcaba1c47c"
      },
      "execution_count": 27,
      "outputs": [
        {
          "output_type": "stream",
          "name": "stdout",
          "text": [
            "The accuracy score is:  0.8625\n",
            "The precision score is:  0.7647058823529411\n",
            "The CLASSIFICATION report is:                precision    recall  f1-score   support\n",
            "\n",
            "           0       0.93      0.84      0.89        51\n",
            "           1       0.76      0.90      0.83        29\n",
            "\n",
            "    accuracy                           0.86        80\n",
            "   macro avg       0.85      0.87      0.86        80\n",
            "weighted avg       0.87      0.86      0.86        80\n",
            "\n",
            "The confusion matrix is:  [[43  8]\n",
            " [ 3 26]]\n"
          ]
        }
      ]
    },
    {
      "cell_type": "code",
      "source": [
        "def main_function():\n",
        "  data = read_data()\n",
        "  X_train, X_test, y_train, y_test = data_prep(data, 0.2)\n",
        "  pred = dec_model(X_train, y_train, X_test)\n",
        "  accuracy, precision, clf, conf_matrix =  model_dtc_diag(y_test, pred)\n",
        "  return clf\n",
        ""
      ],
      "metadata": {
        "id": "jOBfIn6-Gqvn"
      },
      "execution_count": 46,
      "outputs": []
    },
    {
      "cell_type": "code",
      "source": [
        "%%time\n",
        "results = main_function()\n",
        "print(results)"
      ],
      "metadata": {
        "colab": {
          "base_uri": "https://localhost:8080/"
        },
        "id": "zlvqh0ADOUo2",
        "outputId": "194a2748-49c8-4fcb-8d74-7eec4b5435f8"
      },
      "execution_count": 31,
      "outputs": [
        {
          "output_type": "stream",
          "name": "stdout",
          "text": [
            "              precision    recall  f1-score   support\n",
            "\n",
            "           0       0.93      0.84      0.89        51\n",
            "           1       0.76      0.90      0.83        29\n",
            "\n",
            "    accuracy                           0.86        80\n",
            "   macro avg       0.85      0.87      0.86        80\n",
            "weighted avg       0.87      0.86      0.86        80\n",
            "\n",
            "CPU times: user 29.9 ms, sys: 0 ns, total: 29.9 ms\n",
            "Wall time: 35.7 ms\n"
          ]
        },
        {
          "output_type": "stream",
          "name": "stderr",
          "text": [
            "<ipython-input-13-a3325a03892e>:4: SettingWithCopyWarning: \n",
            "A value is trying to be set on a copy of a slice from a DataFrame.\n",
            "Try using .loc[row_indexer,col_indexer] = value instead\n",
            "\n",
            "See the caveats in the documentation: https://pandas.pydata.org/pandas-docs/stable/user_guide/indexing.html#returning-a-view-versus-a-copy\n",
            "  X[['Gender']] = enc.fit_transform(X[['Gender']])\n"
          ]
        }
      ]
    },
    {
      "cell_type": "code",
      "source": [
        "###saving the model\n",
        "dec_tree_model = DecisionTreeClassifier()\n",
        "dtc_model = dec_tree_model.fit(X_train, y_train)\n",
        "joblib.dump(dtc_model, 'iphone_purchase_model.pkl')"
      ],
      "metadata": {
        "colab": {
          "base_uri": "https://localhost:8080/"
        },
        "id": "EwSt1l1eOxoW",
        "outputId": "077a482f-eec2-44b0-d023-44aa1e7d4d53"
      },
      "execution_count": 52,
      "outputs": [
        {
          "output_type": "execute_result",
          "data": {
            "text/plain": [
              "['iphone_purchase_model.pkl']"
            ]
          },
          "metadata": {},
          "execution_count": 52
        }
      ]
    },
    {
      "cell_type": "code",
      "source": [],
      "metadata": {
        "id": "EPaovO23Q18H"
      },
      "execution_count": null,
      "outputs": []
    }
  ]
}