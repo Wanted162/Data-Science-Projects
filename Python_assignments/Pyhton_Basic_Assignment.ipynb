{
  "nbformat": 4,
  "nbformat_minor": 0,
  "metadata": {
    "colab": {
      "provenance": []
    },
    "kernelspec": {
      "name": "python3",
      "display_name": "Python 3"
    },
    "language_info": {
      "name": "python"
    }
  },
  "cells": [
    {
      "cell_type": "code",
      "execution_count": 1,
      "metadata": {
        "id": "lmm16DI8Nf5S"
      },
      "outputs": [],
      "source": [
        "#Simple Message: Store a message in a variable, and then print that message."
      ]
    },
    {
      "cell_type": "code",
      "source": [
        "a = \"Hello World\"\n",
        "print(a)"
      ],
      "metadata": {
        "colab": {
          "base_uri": "https://localhost:8080/"
        },
        "id": "5xMdk7pINtR9",
        "outputId": "a10dc75c-3272-447c-9fcc-d9959cefa2ba"
      },
      "execution_count": 2,
      "outputs": [
        {
          "output_type": "stream",
          "name": "stdout",
          "text": [
            "Hello World\n"
          ]
        }
      ]
    },
    {
      "cell_type": "code",
      "source": [
        "#Store a message in a variable and print that message. Then change the value of your variable to a new message and print the new message."
      ],
      "metadata": {
        "id": "AuA1X29_N2M5"
      },
      "execution_count": 3,
      "outputs": []
    },
    {
      "cell_type": "code",
      "source": [
        "a = \"Hello World\"\n",
        "print(a)\n",
        "a = \"Hello Python\"\n",
        "print(a)"
      ],
      "metadata": {
        "colab": {
          "base_uri": "https://localhost:8080/"
        },
        "id": "9VN5Anm_N8ap",
        "outputId": "1989f575-170e-4f97-dcaf-ada9411e07b6"
      },
      "execution_count": 4,
      "outputs": [
        {
          "output_type": "stream",
          "name": "stdout",
          "text": [
            "Hello World\n",
            "Hello Python\n"
          ]
        }
      ]
    },
    {
      "cell_type": "code",
      "source": [
        "#Store a person’s name in a variable and print a message to that person. Your message should be simple, such as, “Hello Eric, would you like to learn some Python today?”"
      ],
      "metadata": {
        "id": "DH69rItBOES4"
      },
      "execution_count": 5,
      "outputs": []
    },
    {
      "cell_type": "code",
      "source": [
        "b = \"Eric\"\n",
        "print(\"Hello \" + b + \", would you like to learn some Python today?\")"
      ],
      "metadata": {
        "colab": {
          "base_uri": "https://localhost:8080/"
        },
        "id": "_9YUzQALOJ_P",
        "outputId": "b16c81b1-2c8f-40d6-d3e9-b62c51ec0f8a"
      },
      "execution_count": 6,
      "outputs": [
        {
          "output_type": "stream",
          "name": "stdout",
          "text": [
            "Hello Eric, would you like to learn some Python today?\n"
          ]
        }
      ]
    },
    {
      "cell_type": "code",
      "source": [
        "#Find a quote from a famous person you admire. Print the quote and the name of its author. Your output should look something like the following, including the quotation marks: Albert Einstein once said, “A person who never made a mistake never tried anything new.”"
      ],
      "metadata": {
        "id": "ddH8nuArOQ4u"
      },
      "execution_count": 7,
      "outputs": []
    },
    {
      "cell_type": "code",
      "source": [
        "c = \"Albert Einstein once said, “A person who never made a mistake never tried anything new.”\"\n",
        "print(c)"
      ],
      "metadata": {
        "colab": {
          "base_uri": "https://localhost:8080/"
        },
        "id": "ZyjSrP8NOYpj",
        "outputId": "356af4cf-7f14-4dc5-fbc5-fb1352209e7b"
      },
      "execution_count": 8,
      "outputs": [
        {
          "output_type": "stream",
          "name": "stdout",
          "text": [
            "Albert Einstein once said, “A person who never made a mistake never tried anything new.”\n"
          ]
        }
      ]
    },
    {
      "cell_type": "code",
      "source": [
        "#Repeat Exercise 4, but this time store the famous person’s name in a variable called famous_person. Then compose your message and store it in a new variable called message. Print your message"
      ],
      "metadata": {
        "id": "MGUjv_R7OgK9"
      },
      "execution_count": 9,
      "outputs": []
    },
    {
      "cell_type": "code",
      "source": [
        "d = \"Albert Einstein\"\n",
        "e = \"once said, “A person who never made a mistake never tried anything new.”\"\n",
        "print(d + \" \" + e)"
      ],
      "metadata": {
        "colab": {
          "base_uri": "https://localhost:8080/"
        },
        "id": "p69QdFtAOmvl",
        "outputId": "681cf6ae-ba17-4a01-9875-da9fd370e115"
      },
      "execution_count": 10,
      "outputs": [
        {
          "output_type": "stream",
          "name": "stdout",
          "text": [
            "Albert Einstein once said, “A person who never made a mistake never tried anything new.”\n"
          ]
        }
      ]
    },
    {
      "cell_type": "code",
      "source": [
        "#Write addition, subtraction, multiplication, and division operations that each result in the number 8. Be sure to enclose your operations in print statements to see the results. You should create four lines that look like this: print (5 + 3) Your output should simply be four lines with the number 8 appearing once on each line."
      ],
      "metadata": {
        "id": "TeuiPw90Op9G"
      },
      "execution_count": 13,
      "outputs": []
    },
    {
      "cell_type": "code",
      "source": [
        "e = 4\n",
        "f = 2\n",
        "print(e + f)\n",
        "print(e - f)\n",
        "print(e * f)\n",
        "print(e / f)"
      ],
      "metadata": {
        "colab": {
          "base_uri": "https://localhost:8080/"
        },
        "id": "4qrIiNmVOw2k",
        "outputId": "605026ef-9b69-45ca-e0b4-93374d8db045"
      },
      "execution_count": 14,
      "outputs": [
        {
          "output_type": "stream",
          "name": "stdout",
          "text": [
            "6\n",
            "2\n",
            "8\n",
            "2.0\n"
          ]
        }
      ]
    },
    {
      "cell_type": "code",
      "source": [
        "#Store your favourite number in a variable. Then, using that variable, create a message that reveals your favourite number. Print that message."
      ],
      "metadata": {
        "id": "99XnxL-MO5s-"
      },
      "execution_count": 15,
      "outputs": []
    },
    {
      "cell_type": "code",
      "source": [
        "g = 5\n",
        "print(\"My favourite number is \" + str(g) + \".\")\n"
      ],
      "metadata": {
        "colab": {
          "base_uri": "https://localhost:8080/"
        },
        "id": "crKOsH6dPP9x",
        "outputId": "9a8cc3c9-6950-453f-f239-7e2340cce16c"
      },
      "execution_count": 16,
      "outputs": [
        {
          "output_type": "stream",
          "name": "stdout",
          "text": [
            "My favourite number is 5.\n"
          ]
        }
      ]
    },
    {
      "cell_type": "code",
      "source": [
        "# Choose two of the programs you’ve written and add at least one comment to each. If you don’t have anything specific to write because your programs are too simple at this point, just add your name and the current date at the top of each program file. Then write one sentence describing what the program does."
      ],
      "metadata": {
        "id": "6RjRdi6mPT8E"
      },
      "execution_count": 17,
      "outputs": []
    },
    {
      "cell_type": "code",
      "source": [
        "#program1\n",
        "\n",
        "# Author: Pranit Pisal\n",
        "# Date: 2024-08-20\n",
        "\n",
        "# This program adds two numbers and prints the result.\n",
        "\n",
        "# Define two numbers\n",
        "number1 = 10\n",
        "number2 = 20\n",
        "\n",
        "# Add the numbers\n",
        "sum_result = number1 + number2\n",
        "\n",
        "# Print the result\n",
        "print(\"The sum is:\", sum_result)\n",
        "\n",
        "\n",
        "#program2\n",
        "\n",
        "# Author: Pranit Pisal\n",
        "# Date: 2024-08-20\n",
        "\n",
        "# This program asks for the user's name and then greets them.\n",
        "\n",
        "# Ask the user for their name\n",
        "user_name = input(\"Enter your name: \")\n",
        "\n",
        "# Greet the user with their name\n",
        "print(\"Hello, \" + user_name + \"! Welcome!\")\n",
        "\n",
        "# End of the program\n"
      ],
      "metadata": {
        "colab": {
          "base_uri": "https://localhost:8080/"
        },
        "id": "Gz5aFWGAPtY9",
        "outputId": "213fc89a-a96c-4d9a-933a-52a1edc89dae"
      },
      "execution_count": 18,
      "outputs": [
        {
          "output_type": "stream",
          "name": "stdout",
          "text": [
            "The sum is: 30\n",
            "Enter your name: Pranit\n",
            "Hello, Pranit! Welcome!\n"
          ]
        }
      ]
    },
    {
      "cell_type": "code",
      "source": [
        "#Store the names of a few of your friends in a list called names. Print each person’s name by accessing each element in the list, one at a time."
      ],
      "metadata": {
        "id": "hodJqssUQDCU"
      },
      "execution_count": 19,
      "outputs": []
    },
    {
      "cell_type": "code",
      "source": [
        "names = [\"bill\", \"jack\", \"michael\", \"kenny\", \"leonel\"]\n",
        "print(names[0])\n",
        "print(names[1])\n",
        "print(names[2])\n",
        "print(names[3])\n",
        "print(names[4])"
      ],
      "metadata": {
        "colab": {
          "base_uri": "https://localhost:8080/"
        },
        "id": "LFA6h-gFQNOq",
        "outputId": "168eb665-61c7-4472-b3bd-0d5107bb6b0d"
      },
      "execution_count": 23,
      "outputs": [
        {
          "output_type": "stream",
          "name": "stdout",
          "text": [
            "bill\n",
            "jack\n",
            "michael\n",
            "kenny\n",
            "leonel\n"
          ]
        }
      ]
    },
    {
      "cell_type": "code",
      "source": [
        "#Start with the list you used in Exercise 9, but instead of just printing each person’s name, print a message to them. The text of each message should be the same, but each message should be personalized with the person’sname"
      ],
      "metadata": {
        "id": "xxAA3-6fQmmr"
      },
      "execution_count": 24,
      "outputs": []
    },
    {
      "cell_type": "code",
      "source": [
        "print(\"Hello \" + names[0] + \", how are you?\")\n",
        "print(\"Hello \" + names[1] + \", how are you?\")\n",
        "print(\"Hello \" + names[2] + \", how are you?\")\n",
        "print(\"Hello \" + names[3] + \", how are you?\")\n",
        "print(\"Hello \" + names[4] + \", how are you?\")"
      ],
      "metadata": {
        "colab": {
          "base_uri": "https://localhost:8080/"
        },
        "id": "68qhKfigRAPt",
        "outputId": "911c6a9b-9fe4-4800-ef40-9021e286ac49"
      },
      "execution_count": 25,
      "outputs": [
        {
          "output_type": "stream",
          "name": "stdout",
          "text": [
            "Hello bill, how are you?\n",
            "Hello jack, how are you?\n",
            "Hello michael, how are you?\n",
            "Hello kenny, how are you?\n",
            "Hello leonel, how are you?\n"
          ]
        }
      ]
    },
    {
      "cell_type": "code",
      "source": [
        "# .Think of your favourite mode of transportation, such as a motorcycle or a car, and make a list that stores several examples. Use your list to print a series of statements about these items, such as “I would like to own a Honda motorcycle.”"
      ],
      "metadata": {
        "id": "1BoOSEFqRNAY"
      },
      "execution_count": 26,
      "outputs": []
    },
    {
      "cell_type": "code",
      "source": [
        "transport_modes = [\"motorcycle\", \"car\", \"bicycle\", \"scooter\", \"bus\"]\n",
        "print(\"I would like to own a \" + transport_modes[0] + \".\")\n",
        "print(\"I would like to own a \" + transport_modes[1] + \".\")\n",
        "print(\"I would like to own a \" + transport_modes[2] + \".\")"
      ],
      "metadata": {
        "colab": {
          "base_uri": "https://localhost:8080/"
        },
        "id": "IsbEvHN3RWlk",
        "outputId": "adbd45eb-fc8c-4141-be55-91a5fcbacf5a"
      },
      "execution_count": 27,
      "outputs": [
        {
          "output_type": "stream",
          "name": "stdout",
          "text": [
            "I would like to own a motorcycle.\n",
            "I would like to own a car.\n",
            "I would like to own a bicycle.\n"
          ]
        }
      ]
    },
    {
      "cell_type": "code",
      "source": [],
      "metadata": {
        "id": "-q9-_TesRlkV"
      },
      "execution_count": null,
      "outputs": []
    }
  ]
}